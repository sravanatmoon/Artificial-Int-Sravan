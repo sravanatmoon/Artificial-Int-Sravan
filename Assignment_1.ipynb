{
 "cells": [
  {
   "cell_type": "markdown",
   "metadata": {},
   "source": [
    "#### 1. Write a function that inputs a number and prints the multiplication table of that number"
   ]
  },
  {
   "cell_type": "code",
   "execution_count": 1,
   "metadata": {},
   "outputs": [
    {
     "name": "stdout",
     "output_type": "stream",
     "text": [
      "The Table of: 7\n",
      "7 x 1 = 7\n",
      "7 x 2 = 14\n",
      "7 x 3 = 21\n",
      "7 x 4 = 28\n",
      "7 x 5 = 35\n",
      "7 x 6 = 42\n",
      "7 x 7 = 49\n",
      "7 x 8 = 56\n",
      "7 x 9 = 63\n",
      "7 x 10 = 70\n"
     ]
    }
   ],
   "source": [
    "try:\n",
    "    n = int(input('The Table of: '))\n",
    "    for i in range(1,11):\n",
    "        print(f'{n} x {i} = {n*i}')\n",
    "except:\n",
    "    print('Invalid Entry')"
   ]
  },
  {
   "cell_type": "markdown",
   "metadata": {},
   "source": [
    "#### 2. Write a program to print twin primes less than 1000. If two consecutive odd numbers are both prime then they are known as twin primes"
   ]
  },
  {
   "cell_type": "code",
   "execution_count": 2,
   "metadata": {},
   "outputs": [
    {
     "name": "stdout",
     "output_type": "stream",
     "text": [
      "[(3, 5), (5, 7), (11, 13), (17, 19), (29, 31), (41, 43), (59, 61), (71, 73), (101, 103), (107, 109), (137, 139), (149, 151), (179, 181), (191, 193), (197, 199), (227, 229), (239, 241), (269, 271), (281, 283), (311, 313), (347, 349), (419, 421), (431, 433), (461, 463), (521, 523), (569, 571), (599, 601), (617, 619), (641, 643), (659, 661), (809, 811), (821, 823), (827, 829), (857, 859), (881, 883)]\n"
     ]
    }
   ],
   "source": [
    "import math as m\n",
    "\n",
    "def is_prime(x):\n",
    "    # lists the reminders for the number x while deviding with integers till its sqrt, \n",
    "    return all(list(map(lambda j: x % j, range(2, int(m.sqrt(x)) + 1))))  # returns False even if found atleat one zero remainder\n",
    "\n",
    "Twin_primes = []\n",
    "for i in range(2, 1001):\n",
    "    if is_prime(i) and is_prime(i+2):\n",
    "        Twin_primes.append((i,i+2))\n",
    "\n",
    "print(Twin_primes)"
   ]
  },
  {
   "cell_type": "markdown",
   "metadata": {},
   "source": [
    "#### 3. Write a program to find out the prime factors of a number. Example: prime factors of 56 - 2, 2, 2, 7"
   ]
  },
  {
   "cell_type": "code",
   "execution_count": 3,
   "metadata": {},
   "outputs": [
    {
     "name": "stdout",
     "output_type": "stream",
     "text": [
      "The Prime Factors of : 56\n",
      "[2, 2, 2, 7]\n"
     ]
    }
   ],
   "source": [
    "import math as m\n",
    "\n",
    "def is_prime(x):\n",
    "    return all(list(map(lambda j: x % j, range(2, int(m.sqrt(x)) + 1))))\n",
    "\n",
    "try:\n",
    "    factors,i,n = [], 2,int(input(\"The Prime Factors of : \"))\n",
    "    while n>1:\n",
    "        if is_prime(i) and n%i==0:\n",
    "            n/=i\n",
    "            factors.append(i)\n",
    "        else:\n",
    "            i+=1\n",
    "    print(factors)\n",
    "except:\n",
    "    print(\"Invalid Entry\")"
   ]
  },
  {
   "cell_type": "markdown",
   "metadata": {},
   "source": [
    "#### 4. Write a program to implement these formulae of permutations and combinations.  Number of permutations of n objects taken r at a time: p(n, r) = n! / (n-r)!.                    Number of combinations of n objects taken r at a time is: c(n, r) = n! / (r!*(n-r)!) = p(n,r) / r!"
   ]
  },
  {
   "cell_type": "code",
   "execution_count": 4,
   "metadata": {},
   "outputs": [
    {
     "name": "stdout",
     "output_type": "stream",
     "text": [
      "n = 4\n",
      "r = 2\n",
      "P(n,r) =  12\n",
      "C(n,r) =  6\n"
     ]
    }
   ],
   "source": [
    "from functools import reduce\n",
    "def f(n): # finds Factorial of n (n!)\n",
    "    return 1 if n==0 else reduce(lambda x, y: x * y, range(1,n+1))\n",
    "\n",
    "def P(n,r):\n",
    "    return int(f(n) / f(n - r))\n",
    "\n",
    "def C(n,r):\n",
    "    return int(f(n) / (f(n - r) * f(r)))\n",
    "\n",
    "try:\n",
    "    n, r = int(input(\"n = \")), int(input(\"r = \"))\n",
    "    print(\"P(n,r) = \", P(n,r))\n",
    "    print(\"C(n,r) = \", C(n,r))\n",
    "except ValueError:\n",
    "    print(\"Invalid Entry\")\n"
   ]
  },
  {
   "cell_type": "markdown",
   "metadata": {},
   "source": [
    "#### 5. Write a function that converts a decimal number to binary number"
   ]
  },
  {
   "cell_type": "code",
   "execution_count": 5,
   "metadata": {},
   "outputs": [
    {
     "name": "stdout",
     "output_type": "stream",
     "text": [
      "Number in Decimal is : 1000\n",
      "Number in Binary is : 1111101000\n"
     ]
    }
   ],
   "source": [
    "try:\n",
    "    n = int(input(\"Number in Decimal is : \"))\n",
    "    Binary, x = '', 0           # x = place value,\n",
    "    while n > 0:\n",
    "        Binary = str((n % 2))+Binary\n",
    "        n = int(n/2)\n",
    "        x += 1\n",
    "    print(f\"Number in Binary is : {Binary}\")\n",
    "except:\n",
    "    print('Invalid Entry')"
   ]
  },
  {
   "cell_type": "markdown",
   "metadata": {},
   "source": [
    "#### 6. Write a function cubesum() that accepts an integer and returns the sum of the cubes of individual digits of that number. Use this function to make functions PrintArmstrong() and isArmstrong() to print Armstrong numbers and to find whether is an Armstrong number."
   ]
  },
  {
   "cell_type": "code",
   "execution_count": 6,
   "metadata": {},
   "outputs": [],
   "source": [
    "def cubesum(String, m=3):\n",
    "    cube_sum = 0\n",
    "    for i in  String:\n",
    "        cube_sum += (int(i))**m\n",
    "    return cube_sum\n",
    "\n",
    "def isArmstrong(String):\n",
    "    return cubesum(String, len(String)) == int(String)\n",
    "\n",
    "def PrintArmstrong(n):\n",
    "    Armstrong = []\n",
    "    for i in range(n):\n",
    "        String = str(i)\n",
    "        if isArmstrong(String):\n",
    "            Armstrong.append(i)\n",
    "    print(Armstrong)"
   ]
  },
  {
   "cell_type": "code",
   "execution_count": 7,
   "metadata": {},
   "outputs": [
    {
     "name": "stdout",
     "output_type": "stream",
     "text": [
      "Enter the Integer to find cubesum: 124\n",
      "73\n"
     ]
    }
   ],
   "source": [
    "# cubesum\n",
    "try:\n",
    "    n = int(input(\"Enter the Integer to find cubesum: \")) # to avoid invalid Entries\n",
    "    print(cubesum(str(n)))\n",
    "except:\n",
    "    print(\"Invalid Entry, Please Enter an Integer\")"
   ]
  },
  {
   "cell_type": "code",
   "execution_count": 8,
   "metadata": {},
   "outputs": [
    {
     "name": "stdout",
     "output_type": "stream",
     "text": [
      "Integer to check if it is Armstrong: 267\n",
      "False\n"
     ]
    }
   ],
   "source": [
    "# isArmstrong() \n",
    "try:\n",
    "    n = int(input(\"Integer to check if it is Armstrong: \")) # to avoid invalid Entries\n",
    "    print(isArmstrong(str(n)))\n",
    "except:\n",
    "    print(\"Invalid Entry, Please Enter an Integer\")"
   ]
  },
  {
   "cell_type": "code",
   "execution_count": 9,
   "metadata": {},
   "outputs": [
    {
     "name": "stdout",
     "output_type": "stream",
     "text": [
      "Find Armstrongs under : 1000\n",
      "[0, 1, 2, 3, 4, 5, 6, 7, 8, 9, 153, 370, 371, 407]\n"
     ]
    }
   ],
   "source": [
    "# PrintArmstrong() \n",
    "try:\n",
    "    n = int(input(\"Find Armstrongs under : \")) # to avoid invalid Entries\n",
    "    PrintArmstrong(n)                          # includes trivial \n",
    "except:\n",
    "    print(\"Invalid Entry, Please Enter an Integer\")"
   ]
  },
  {
   "cell_type": "markdown",
   "metadata": {},
   "source": [
    "#### 7. Write a function prodDigits() that inputs a number and returns the product of digits of that number."
   ]
  },
  {
   "cell_type": "code",
   "execution_count": 10,
   "metadata": {},
   "outputs": [],
   "source": [
    "from functools import reduce\n",
    "\n",
    "def prodDigits(num):\n",
    "    lst = list(str(num))\n",
    "    return reduce(lambda x,y: x*y, [int(lst[i]) for i in range(len(lst))])"
   ]
  },
  {
   "cell_type": "code",
   "execution_count": 11,
   "metadata": {},
   "outputs": [
    {
     "name": "stdout",
     "output_type": "stream",
     "text": [
      "Enter the Number : 127\n",
      "14\n"
     ]
    }
   ],
   "source": [
    "try:\n",
    "    n = int(input(\"Enter the Number : \")) # to avoid invalid Entries\n",
    "    print(prodDigits(n))\n",
    "except:\n",
    "    print(\"Invalid Entry, Please Enter an Integer\")"
   ]
  },
  {
   "cell_type": "markdown",
   "metadata": {},
   "source": [
    "#### 8. If all digits of a number n are multiplied by each other repeating with the product, the one digit number obtained at last is called the multiplicative digital root of n. The number of times digits need to be multiplied to reach one digit is called the multiplicative persistance of n.\n",
    "\n",
    "Example: 86 -> 48 -> 32 -> 6 (MDR 6, MPersistence 3)\n",
    " 341 -> 12->2 (MDR 2, MPersistence 2)\n",
    " \n",
    "Using the function prodDigits() of previous exercise write functions MDR() and\n",
    "MPersistence() that input a number and return its multiplicative digital root and\n",
    "multiplicative persistence respectively"
   ]
  },
  {
   "cell_type": "code",
   "execution_count": 12,
   "metadata": {},
   "outputs": [],
   "source": [
    "from functools import reduce\n",
    "\n",
    "def prodDigits(num):\n",
    "    lst = list(str(num))\n",
    "    return reduce(lambda x,y: x*y, [int(lst[i]) for i in range(len(lst))])\n",
    "\n",
    "def MDR(num):\n",
    "    lst = list(str(num))\n",
    "    mdr = prodDigits(num)\n",
    "    return mdr if len(str(mdr)) ==1 else MDR(mdr)\n",
    "\n",
    "def MPersistence(num):\n",
    "    lst, mPersistence, mdr  = list(str(num)), 0, num\n",
    "    \n",
    "    while len(lst)>1:\n",
    "        mdr = prodDigits(mdr)\n",
    "        lst = list(str(mdr))\n",
    "        mPersistence +=1\n",
    "    return mPersistence"
   ]
  },
  {
   "cell_type": "code",
   "execution_count": 13,
   "metadata": {},
   "outputs": [
    {
     "name": "stdout",
     "output_type": "stream",
     "text": [
      "Enter the Number : 86\n",
      "MDR of the number 86 is : 6\n",
      "MPersistence of the number 86 is : 3\n"
     ]
    }
   ],
   "source": [
    "try:\n",
    "    n = int(input(\"Enter the Number : \")) # to avoid invalid Entries\n",
    "    print(f'MDR of the number {n} is : {MDR(n)}')\n",
    "    print(f'MPersistence of the number {n} is : {MPersistence(n)}')\n",
    "\n",
    "except:\n",
    "    print(\"Invalid Entry, Please Enter an Integer\")"
   ]
  },
  {
   "cell_type": "markdown",
   "metadata": {},
   "source": [
    "#### 9. Write a function sumPdivisors() that finds the sum of proper divisors of a number. Proper divisors of a number are those numbers by which the number is divisible, except the number itself. For example proper divisors of 36 are 1, 2, 3, 4, 6, 9, 18 "
   ]
  },
  {
   "cell_type": "code",
   "execution_count": 14,
   "metadata": {},
   "outputs": [],
   "source": [
    "def sumPdivisors(n):\n",
    "    sumP = 0\n",
    "    print(\"The list of Proper Divisors is : \", end=' ')\n",
    "    for i in range(1,int(n/2)+1):\n",
    "        if n%i ==0:\n",
    "            sumP += i\n",
    "            print(i,end=', ')\n",
    "    print('\\n')\n",
    "    return sumP"
   ]
  },
  {
   "cell_type": "code",
   "execution_count": 15,
   "metadata": {},
   "outputs": [
    {
     "name": "stdout",
     "output_type": "stream",
     "text": [
      "Enter the Number : 36\n",
      "The list of Proper Divisors is :  1, 2, 3, 4, 6, 9, 12, 18, \n",
      "\n",
      "The sum of proper divisors of 36 is : 55\n"
     ]
    }
   ],
   "source": [
    "try:\n",
    "    n = int(input(\"Enter the Number : \")) # to avoid invalid Entries\n",
    "    sumP = sumPdivisors(n)\n",
    "    print(f\"The sum of proper divisors of {n} is : {sumP}\")\n",
    "\n",
    "except:\n",
    "    print(\"Invalid Entry, Please Enter an Integer\")"
   ]
  },
  {
   "cell_type": "markdown",
   "metadata": {},
   "source": [
    "#### 10. A number is called perfect if the sum of proper divisors of that number is equal to the number. For example 28 is perfect number, since 1+2+4+7+14=28. Write a program to print all the perfect numbers in a given range"
   ]
  },
  {
   "cell_type": "code",
   "execution_count": 16,
   "metadata": {},
   "outputs": [],
   "source": [
    "def sumPdivisors(n):\n",
    "    sumP = 0\n",
    "    for i in range(1,int(n/2)+1):\n",
    "        if n%i ==0:\n",
    "            sumP += i\n",
    "    return sumP"
   ]
  },
  {
   "cell_type": "code",
   "execution_count": 17,
   "metadata": {},
   "outputs": [
    {
     "name": "stdout",
     "output_type": "stream",
     "text": [
      "Perfect Numbers from : 28\n",
      "to : 1000\n",
      "[28, 496]\n"
     ]
    }
   ],
   "source": [
    "try:\n",
    "    m, n = int(input(\"Perfect Numbers from : \")), int(input(\"to : \"))  # to avoid invalid Entries\n",
    "    Perfect_numbers = []\n",
    "    for i in range(m,n):\n",
    "        if  i == sumPdivisors(i):\n",
    "            Perfect_numbers.append(i)\n",
    "    print(Perfect_numbers)\n",
    "except:\n",
    "    print(\"Invalid Entry, Please Enter an Integer\")"
   ]
  },
  {
   "cell_type": "markdown",
   "metadata": {},
   "source": [
    "#### 11. Two different numbers are called amicable numbers if the sum of the proper divisors of each is equal to the other number. For example 220 and 284 are amicable numbers.\n",
    "Sum of proper divisors of 220 = 1+2+4+5+10+11+20+22+44+55+110 = 284\n",
    "\n",
    "Sum of proper divisors of 284 = 1+2+4+71+142 = 220\n",
    "\n",
    "Write a function to print pairs of amicable numbers in a range"
   ]
  },
  {
   "cell_type": "code",
   "execution_count": 18,
   "metadata": {},
   "outputs": [],
   "source": [
    "def sumPdivisors(n):\n",
    "    sumP, Proper_devisors = 0, []\n",
    "    for i in range(1,int(n/2)+1):\n",
    "        if n%i ==0:\n",
    "            sumP += i     # Proper_devisors.append(i) if we need List of Proper devisors\n",
    "    return sumP"
   ]
  },
  {
   "cell_type": "code",
   "execution_count": 23,
   "metadata": {},
   "outputs": [
    {
     "name": "stdout",
     "output_type": "stream",
     "text": [
      "amicable Numbers from : 200\n",
      "to : 300\n",
      "The amicable numbers between 200 and 300 are :  [(220, 284)]\n"
     ]
    }
   ],
   "source": [
    "try:\n",
    "    m, n = int(input(\"amicable Numbers from : \")), int(input(\"to : \"))  # to avoid invalid Entries\n",
    "    amicable_numbers = []\n",
    "    for i in range(m,n):\n",
    "        for j in range(i+1,n):\n",
    "            if i == sumPdivisors(j) and j == sumPdivisors(i):\n",
    "                amicable_numbers.append((i,j))\n",
    "    print(f\"The amicable numbers between {m} and {n} are : \",amicable_numbers)\n",
    "except:\n",
    "    print(\"Invalid Entry, Please Enter an Integer\")"
   ]
  },
  {
   "cell_type": "markdown",
   "metadata": {},
   "source": [
    "#### 12. Write a program which can filter odd numbers in a list by using filter function"
   ]
  },
  {
   "cell_type": "code",
   "execution_count": 20,
   "metadata": {},
   "outputs": [
    {
     "name": "stdout",
     "output_type": "stream",
     "text": [
      "The Complete list is :  [16, 4, 84, 26, 3, 93, 52, 7, 64, 77]\n",
      "The Filtered list is  [3, 93, 7, 77]\n"
     ]
    }
   ],
   "source": [
    "from random import randint\n",
    "\n",
    "lst = [randint(1, 100) for i in range(10)]\n",
    "print(\"The Complete list is : \", lst)\n",
    "\n",
    "Odd_numbers = list(filter(lambda x: x%2==1, lst))\n",
    "print(\"The Filtered list is \",Odd_numbers)"
   ]
  },
  {
   "cell_type": "markdown",
   "metadata": {},
   "source": [
    "#### 13. Write a program which can map() to make a list whose elements are cube of elements in a given list"
   ]
  },
  {
   "cell_type": "code",
   "execution_count": 21,
   "metadata": {},
   "outputs": [
    {
     "name": "stdout",
     "output_type": "stream",
     "text": [
      "The number list is :  [10, 10, 9, 8, 9, 6, 6, 6, 2, 2]\n",
      "The Sqaured list is  [100, 100, 81, 64, 81, 36, 36, 36, 4, 4]\n"
     ]
    }
   ],
   "source": [
    "from random import randint\n",
    "\n",
    "numbers = [randint(1, 10) for i in range(10)]\n",
    "print(\"The number list is : \", numbers)\n",
    "\n",
    "sqrd_num = list(map(lambda x:x**2, numbers))\n",
    "print(\"The Sqaured list is \",sqrd_num)"
   ]
  },
  {
   "cell_type": "markdown",
   "metadata": {},
   "source": [
    "#### 14. Write a program which can map() and filter() to make a list whose elements are cube of even number in a given list\n"
   ]
  },
  {
   "cell_type": "code",
   "execution_count": 22,
   "metadata": {},
   "outputs": [
    {
     "name": "stdout",
     "output_type": "stream",
     "text": [
      "The Given list is :  [7, 9, 10, 2, 3, 4, 9, 10, 3, 7]\n",
      "[10, 2, 4, 10]\n",
      "The cubes of even numbers in the given list are:  [1000, 8, 64, 1000]\n"
     ]
    }
   ],
   "source": [
    "from random import randint\n",
    "given_list = [randint(1, 10) for i in range(10)]\n",
    "print(\"The Given list is : \", given_list)\n",
    "\n",
    "filered = list(filter(lambda x: x%2==0, given_list))\n",
    "print(filered)\n",
    "\n",
    "cube_of_filtered = list(map(lambda x:x**3, filered))\n",
    "print(\"The cubes of even numbers in the given list are: \", cube_of_filtered)"
   ]
  },
  {
   "cell_type": "code",
   "execution_count": null,
   "metadata": {},
   "outputs": [],
   "source": []
  }
 ],
 "metadata": {
  "kernelspec": {
   "display_name": "Python 3",
   "language": "python",
   "name": "python3"
  },
  "language_info": {
   "codemirror_mode": {
    "name": "ipython",
    "version": 3
   },
   "file_extension": ".py",
   "mimetype": "text/x-python",
   "name": "python",
   "nbconvert_exporter": "python",
   "pygments_lexer": "ipython3",
   "version": "3.8.3"
  }
 },
 "nbformat": 4,
 "nbformat_minor": 4
}
