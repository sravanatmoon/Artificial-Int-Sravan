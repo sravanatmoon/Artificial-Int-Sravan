{
  "nbformat": 4,
  "nbformat_minor": 0,
  "metadata": {
    "kernelspec": {
      "display_name": "Python 3",
      "language": "python",
      "name": "python3"
    },
    "language_info": {
      "codemirror_mode": {
        "name": "ipython",
        "version": 3
      },
      "file_extension": ".py",
      "mimetype": "text/x-python",
      "name": "python",
      "nbconvert_exporter": "python",
      "pygments_lexer": "ipython3",
      "version": "3.6.8"
    },
    "colab": {
      "name": "3.Python Assignment.ipynb",
      "provenance": [],
      "collapsed_sections": [],
      "include_colab_link": true
    }
  },
  "cells": [
    {
      "cell_type": "markdown",
      "metadata": {
        "id": "view-in-github",
        "colab_type": "text"
      },
      "source": [
        "<a href=\"https://colab.research.google.com/github/sravanatmoon/Artificial-Int-Sravan/blob/master/3_Python_Assignment.ipynb\" target=\"_parent\"><img src=\"https://colab.research.google.com/assets/colab-badge.svg\" alt=\"Open In Colab\"/></a>"
      ]
    },
    {
      "cell_type": "markdown",
      "metadata": {
        "id": "iCgYuAeUhm6A",
        "colab_type": "text"
      },
      "source": [
        "# Assignment on Python without libraries"
      ]
    },
    {
      "cell_type": "markdown",
      "metadata": {
        "id": "C0xO8JV9B-ki",
        "colab_type": "text"
      },
      "source": [
        "<h3> Q1: Given two matrices please print the product of those two matrices </h3>"
      ]
    },
    {
      "cell_type": "code",
      "metadata": {
        "id": "rnssAfpgB-kj",
        "colab_type": "code",
        "colab": {
          "base_uri": "https://localhost:8080/",
          "height": 34
        },
        "outputId": "b1127e63-81ff-4057-c188-97604aa4666f"
      },
      "source": [
        "A   = [[1, 2],\n",
        "        [3, 4]]\n",
        "B   = [[1, 2, 3, 4, 5],\n",
        "        [5, 6, 7, 8, 9]]\n",
        "def matrix_mul(A, B):\n",
        "    m1, n1, m2, n2,  = len(A), len(A[0]), len(B), len(B[0]),\n",
        "    AB = [[0 for col in range(n2)]for row in range(m1)]\n",
        "    if n1 == m2:\n",
        "        for ai in range(m1):\n",
        "            for j in range(n1):\n",
        "                for bj in range(n2):\n",
        "                    AB[ai][bj] += A[ai][j]*B[j][bj]\n",
        "        return AB\n",
        "    else:\n",
        "        return \"Not possible\"\n",
        "\n",
        "matrix_mul(A, B)"
      ],
      "execution_count": 1,
      "outputs": [
        {
          "output_type": "execute_result",
          "data": {
            "text/plain": [
              "[[11, 14, 17, 20, 23], [23, 30, 37, 44, 51]]"
            ]
          },
          "metadata": {
            "tags": []
          },
          "execution_count": 1
        }
      ]
    },
    {
      "cell_type": "markdown",
      "metadata": {
        "id": "at4VwLggB-kn",
        "colab_type": "text"
      },
      "source": [
        "<h3> Q2: Select a number randomly with probability proportional to its magnitude from the given array of n elements</h3>"
      ]
    },
    {
      "cell_type": "code",
      "metadata": {
        "id": "B6S2dpBhB-kn",
        "colab_type": "code",
        "colab": {
          "base_uri": "https://localhost:8080/",
          "height": 54
        },
        "outputId": "c3753e3b-e660-4d3b-efca-35f88829eda6"
      },
      "source": [
        "from random import uniform\n",
        "A = [0, 5, 27, 6, 13, 28, 100, 45, 10, 79]\n",
        "\n",
        "def pick_a_number_from_list(A):\n",
        "    A.sort()\n",
        "    cum_ele, A_star = 0, []\n",
        "    for ele in A:\n",
        "        cum_ele += ele ; A_star.append(cum_ele)\n",
        "    weights = list(map(lambda a: a / sum(A), A_star))\n",
        "    rand_prob = uniform(0, 1)\n",
        "    for weight in weights:\n",
        "        if rand_prob <= weight:\n",
        "            return A[weights.index(weight)]\n",
        "\n",
        "def sampling_based_on_magnitued():\n",
        "    for i in range(1, 100):\n",
        "        number = pick_a_number_from_list(A)\n",
        "        print(number, end = \",\")\n",
        "\n",
        "sampling_based_on_magnitued()"
      ],
      "execution_count": 2,
      "outputs": [
        {
          "output_type": "stream",
          "text": [
            "100,27,100,13,45,100,100,27,100,79,79,79,79,100,79,10,100,45,100,100,100,45,45,45,100,6,27,27,100,100,45,45,100,79,6,100,79,100,100,79,79,100,100,100,45,100,79,100,100,10,79,28,28,100,100,100,100,100,28,100,79,100,79,45,45,45,79,79,45,100,79,45,79,28,100,45,100,100,79,79,100,10,79,27,79,100,79,27,28,13,100,79,10,100,45,100,45,100,27,"
          ],
          "name": "stdout"
        }
      ]
    },
    {
      "cell_type": "markdown",
      "metadata": {
        "id": "D1xQy2WWB-kq",
        "colab_type": "text"
      },
      "source": [
        "<h3> Q3: Replace the digits in the string with #</h3>"
      ]
    },
    {
      "cell_type": "code",
      "metadata": {
        "id": "fxczi2jzB-kr",
        "colab_type": "code",
        "colab": {
          "base_uri": "https://localhost:8080/",
          "height": 35
        },
        "outputId": "c746309d-ab44-43a4-cc49-c20e00658458"
      },
      "source": [
        "import re\n",
        "A = '234'               # Output: ###\n",
        "B = 'a2b3c4'            # Output: ###\n",
        "C = 'abc'               # Output:   (empty string)\n",
        "D = '#2a$#b%c%561#'   # Output: ####\n",
        "\n",
        "def replace_digits(String):\n",
        "    str_lst = list(String)\n",
        "    output = ''\n",
        "    for char in str_lst:\n",
        "        try:\n",
        "            x = int(char)\n",
        "            output = output + '#'\n",
        "        except:\n",
        "            continue\n",
        "    return output\n",
        "\n",
        "replace_digits(A)"
      ],
      "execution_count": 3,
      "outputs": [
        {
          "output_type": "execute_result",
          "data": {
            "application/vnd.google.colaboratory.intrinsic": {
              "type": "string"
            },
            "text/plain": [
              "'###'"
            ]
          },
          "metadata": {
            "tags": []
          },
          "execution_count": 3
        }
      ]
    },
    {
      "cell_type": "markdown",
      "metadata": {
        "id": "j7h0Ywg7B-kw",
        "colab_type": "text"
      },
      "source": [
        "<h3> Q4: Students marks dashboard</h3>"
      ]
    },
    {
      "cell_type": "code",
      "metadata": {
        "id": "cxPJgItsB-kx",
        "colab_type": "code",
        "colab": {
          "base_uri": "https://localhost:8080/",
          "height": 54
        },
        "outputId": "e46448ce-5656-4099-cefd-e49ab6cd7a28"
      },
      "source": [
        "def display_dash_board(students, marks):\n",
        "    m, n = len(students), len(marks)\n",
        "    if m == n:\n",
        "        S_M = tuple(zip(students, marks))\n",
        "        marks.sort(reverse=True)\n",
        "        Rank_list = []\n",
        "        for Marks in marks:\n",
        "            for entry in S_M:\n",
        "                if entry[1] == Marks:\n",
        "                    Rank_list.append(entry)\n",
        "    else:\n",
        "        return \"The size of students and marks are not matching\"\n",
        "\n",
        "    top_5 = Rank_list[:5]\n",
        "    least_5 = Rank_list[::-1][:5]\n",
        "    _25_and_75 = Rank_list[::-1][int(m/4):int(3*m/4)]\n",
        "\n",
        "    return top_5, least_5, _25_and_75\n",
        "\n",
        "Students=['student1','student2','student3','student4','student5','student6','student7','student8','student9','student10'] \n",
        "Marks = [45, 78, 12, 14, 48, 43, 47, 98, 35, 80]\n",
        "\n",
        "top_5_students, least_5_students , students_within_25_and_75 = display_dash_board(Students, Marks)\n",
        "print(top_5_students, least_5_students, students_within_25_and_75)"
      ],
      "execution_count": 4,
      "outputs": [
        {
          "output_type": "stream",
          "text": [
            "[('student8', 98), ('student10', 80), ('student2', 78), ('student5', 48), ('student7', 47)] [('student3', 12), ('student4', 14), ('student9', 35), ('student6', 43), ('student1', 45)] [('student9', 35), ('student6', 43), ('student1', 45), ('student7', 47), ('student5', 48)]\n"
          ],
          "name": "stdout"
        }
      ]
    },
    {
      "cell_type": "markdown",
      "metadata": {
        "id": "qha0OhQHB-k1",
        "colab_type": "text"
      },
      "source": [
        "<h3> Q5: Find the closest points</h3>"
      ]
    },
    {
      "cell_type": "code",
      "metadata": {
        "id": "wA5I1g-2B-k2",
        "colab_type": "code",
        "colab": {
          "base_uri": "https://localhost:8080/",
          "height": 34
        },
        "outputId": "a660c26a-50f7-406b-ae0a-f7ed9baf0460"
      },
      "source": [
        "import math\n",
        "\n",
        "def cos_dis(P, Q):\n",
        "    x, y, p, q = P[0],P[1], Q[0], Q[1]\n",
        "    return math.acos((x*p+y*q)/(math.sqrt((x**2+y**2)*(p**2+q**2))))\n",
        "\n",
        "def closest_points_to_p(S, P):\n",
        "    distances = list(map(lambda point:cos_dis(point,P), S))\n",
        "    point_dists = tuple(zip(S,distances))\n",
        "    distances.sort()\n",
        "    closest_points_to_p = [point[0] for distance in distances for point in point_dists if point[1] == distance][:5] \n",
        "    # learnt from a web result https://www.geeksforgeeks.org/python-sort-list-according-to-other-list-order/\n",
        "    return closest_points_to_p\n",
        "\n",
        "S= [(1,2),(3,4),(-1,1),(6,-7),(0, 6),(-5,-8),(-1,-1),(6,0),(1,-1)]\n",
        "P= (3,-4)\n",
        "closest_points_to_p(S, P)"
      ],
      "execution_count": 5,
      "outputs": [
        {
          "output_type": "execute_result",
          "data": {
            "text/plain": [
              "[(6, -7), (1, -1), (6, 0), (-5, -8), (-1, -1)]"
            ]
          },
          "metadata": {
            "tags": []
          },
          "execution_count": 5
        }
      ]
    },
    {
      "cell_type": "markdown",
      "metadata": {
        "id": "-g11jeAiB-k5",
        "colab_type": "text"
      },
      "source": [
        "<h3> Q6: Find Which line separates oranges and apples</h3>\n"
      ]
    },
    {
      "cell_type": "code",
      "metadata": {
        "id": "eRxExaTRB-k6",
        "colab_type": "code",
        "colab": {
          "base_uri": "https://localhost:8080/",
          "height": 85
        },
        "outputId": "43eea564-8710-4f0f-a79b-fb11191f5945"
      },
      "source": [
        "import math\n",
        "Red= [(1,1),(2,1),(4,2),(2,4), (-1,4)]\n",
        "Blue= [(-2,-1),(-1,-2),(-3,-2),(-3,-1),(1,-3)]\n",
        "Lines=[\"1x+1y+0\",\"1x-1y+0\",\"1x+0y-3\",\"0x+1y-0.5\"]\n",
        "\n",
        "def i_am_the_one(red,blue,line):\n",
        "    # Considering the line of form ax+by+c as mentioned\n",
        "    a, b, c = float(line.split('x')[0]), float(line.split('x')[1].split('y')[0]), float(line.split('x')[1].split('y')[1])\n",
        "    for r in red:\n",
        "        for bl in blue:\n",
        "            if (a*r[0]+b*r[1]+c)*(a*bl[0]+b*bl[1]+c)<0:\n",
        "                continue\n",
        "            else:\n",
        "                return \"No\"\n",
        "    return \"Yes\"\n",
        "\n",
        "for i in Lines:\n",
        "    yes_or_no = i_am_the_one(Red, Blue, i)\n",
        "    print(yes_or_no) "
      ],
      "execution_count": 6,
      "outputs": [
        {
          "output_type": "stream",
          "text": [
            "Yes\n",
            "No\n",
            "No\n",
            "Yes\n"
          ],
          "name": "stdout"
        }
      ]
    },
    {
      "cell_type": "markdown",
      "metadata": {
        "id": "9OBpURbNB-k9",
        "colab_type": "text"
      },
      "source": [
        "<h3> Q7: Filling the missing values in the specified format (Curve Smoothing)</h3>"
      ]
    },
    {
      "cell_type": "code",
      "metadata": {
        "id": "nZmpzHs_B-k-",
        "colab_type": "code",
        "colab": {
          "base_uri": "https://localhost:8080/",
          "height": 119
        },
        "outputId": "c0856621-7600-4c32-a324-14f459a0c916"
      },
      "source": [
        "def bs_ns(lst):\n",
        "    bs, ns = [], []   # bs = index set of blanks ; ns = index set of numbers\n",
        "    for i in range(len(lst)):\n",
        "        try: lst[i] = float(lst[i]); ns.append(i)\n",
        "        except: bs.append(i)\n",
        "    return bs, ns\n",
        "\n",
        "def curve_smoothing(string):\n",
        "    lst = string.split(',')\n",
        "    bs, ns = bs_ns(lst)\n",
        "    while True:\n",
        "        if bs[0] == 0:  # \"_,_,_,24\"\n",
        "            a = lst[ns[0]]\n",
        "            for i in range(ns[0] + 1):\n",
        "                lst[i] = a / (ns[0] + 1)\n",
        "            bs, ns = bs_ns(lst)\n",
        "            if len(bs) == 0:\n",
        "                break\n",
        "        if bs[0] != 0:    # \"40,_,_,_,60\", \"80,_,_,_\"\n",
        "            for k in ns:\n",
        "                if k > bs[0]:\n",
        "                    a, b = lst[bs[0]-1], lst[k]\n",
        "                    for i in range(bs[0]-1, k+1):\n",
        "                        lst[i] = (a+b)/(k+2-bs[0])\n",
        "                    break\n",
        "            bs, ns = bs_ns(lst)\n",
        "            if len(bs) == 0:\n",
        "                break\n",
        "        if ns[-1] < bs[0]:\n",
        "            a = lst[ns[-1]]\n",
        "            for i in range(ns[-1], len(lst)):\n",
        "                lst[i] = a/(len(lst)-ns[-1])\n",
        "            bs, ns = bs_ns(lst)\n",
        "            if len(bs) == 0:\n",
        "                break\n",
        "    return lst\n",
        "\n",
        "A = [\"_,_,_,24\", \"40,_,_,_,60\", \"_,20,_,_,50\", \"80,_,_,_\" ,\"80,_,_,40,_,_\", \"_,_,30,_,_,_,50,_,_\"]\n",
        "for S in A:\n",
        "    smoothed_values= curve_smoothing(S)\n",
        "    print(smoothed_values)"
      ],
      "execution_count": 7,
      "outputs": [
        {
          "output_type": "stream",
          "text": [
            "[6.0, 6.0, 6.0, 6.0]\n",
            "[20.0, 20.0, 20.0, 20.0, 20.0]\n",
            "[10.0, 15.0, 15.0, 15.0, 15.0]\n",
            "[20.0, 20.0, 20.0, 20.0]\n",
            "[30.0, 30.0, 30.0, 10.0, 10.0, 10.0]\n",
            "[10.0, 10.0, 12.0, 12.0, 12.0, 12.0, 4.0, 4.0, 4.0]\n"
          ],
          "name": "stdout"
        }
      ]
    },
    {
      "cell_type": "markdown",
      "metadata": {
        "id": "RBz4pzlfB-lB",
        "colab_type": "text"
      },
      "source": [
        "<h3> Q8: Finding Conditional probabilities</h3>\n",
        "\n",
        "\n"
      ]
    },
    {
      "cell_type": "code",
      "metadata": {
        "id": "e-1giz1MB-lC",
        "colab_type": "code",
        "colab": {
          "base_uri": "https://localhost:8080/",
          "height": 187
        },
        "outputId": "13b47254-e463-43e2-8e23-0c611e846df5"
      },
      "source": [
        "def compute_conditional_probabilites(A):\n",
        "    N_values, D_values = {}, {}\n",
        "    for i in range(1, 4):\n",
        "        D_values[f\"S{i}\"]=0\n",
        "        for j in range(1, 6):\n",
        "            N_values[f\"F{j}/S{i}\"] = 0\n",
        "    for pair in A:\n",
        "        for i in range(1,4):\n",
        "            if pair[1] == f'S{i}':\n",
        "                D_values[f\"S{i}\"] +=1\n",
        "                for j in range(1, 6):\n",
        "                    if pair[0] == f\"F{j}\":\n",
        "                        N_values[f\"F{j}/S{i}\"] += 1\n",
        "    for j in range(1,6):\n",
        "        for i in range(1,4):\n",
        "            print(f\"P(F=F{j}|S==S{i})={N_values[f'F{j}/S{i}']}/{D_values[f'S{i}']}\", end=', ')\n",
        "        print(\"  \\n\")\n",
        "\n",
        "A = [['F1','S1'],['F2','S2'],['F3','S3'],['F1','S2'],['F2','S3'],['F3','S2'],['F2','S1'],['F4','S1'],['F4','S3'],['F5','S1']]\n",
        "\n",
        "compute_conditional_probabilites(A)"
      ],
      "execution_count": 8,
      "outputs": [
        {
          "output_type": "stream",
          "text": [
            "P(F=F1|S==S1)=1/4, P(F=F1|S==S2)=1/3, P(F=F1|S==S3)=0/3,   \n",
            "\n",
            "P(F=F2|S==S1)=1/4, P(F=F2|S==S2)=1/3, P(F=F2|S==S3)=1/3,   \n",
            "\n",
            "P(F=F3|S==S1)=0/4, P(F=F3|S==S2)=1/3, P(F=F3|S==S3)=1/3,   \n",
            "\n",
            "P(F=F4|S==S1)=1/4, P(F=F4|S==S2)=0/3, P(F=F4|S==S3)=1/3,   \n",
            "\n",
            "P(F=F5|S==S1)=1/4, P(F=F5|S==S2)=0/3, P(F=F5|S==S3)=0/3,   \n",
            "\n"
          ],
          "name": "stdout"
        }
      ]
    },
    {
      "cell_type": "markdown",
      "metadata": {
        "id": "n4HS87QmB-lF",
        "colab_type": "text"
      },
      "source": [
        "<h3> Q9: Comparing the given two sentances S1, S2</h3>"
      ]
    },
    {
      "cell_type": "code",
      "metadata": {
        "id": "Ez7hlHK0B-lG",
        "colab_type": "code",
        "colab": {
          "base_uri": "https://localhost:8080/",
          "height": 68
        },
        "outputId": "ffc19f4e-6b7b-4c0d-a83d-54d9b0bc257d"
      },
      "source": [
        "def string_features(S1, S2):\n",
        "    S1_lst, S2_lst = S1.split(), S2.split()\n",
        "    no_of_Common_words, Only_in_S1, Only_in_S2 = 0,  [], []\n",
        "    for word in S1_lst:\n",
        "        if word in S2_lst:\n",
        "            no_of_Common_words += 1\n",
        "        elif word not in S2_lst:\n",
        "            Only_in_S1.append(word)\n",
        "\n",
        "    for word in S2_lst:\n",
        "        if word not in S1_lst:\n",
        "            Only_in_S2.append(word)\n",
        "\n",
        "    return no_of_Common_words, Only_in_S1, Only_in_S2\n",
        "\n",
        "S1= \"the first column F will contain only 5 uniques values\"\n",
        "S2= \"the second column S will contain only 3 uniques values\"\n",
        "a,b,c = string_features(S1, S2)\n",
        "print(a,\"\\n\",b,\"\\n\",c)"
      ],
      "execution_count": 9,
      "outputs": [
        {
          "output_type": "stream",
          "text": [
            "7 \n",
            " ['first', 'F', '5'] \n",
            " ['second', 'S', '3']\n"
          ],
          "name": "stdout"
        }
      ]
    },
    {
      "cell_type": "markdown",
      "metadata": {
        "id": "XefXVEjCB-lI",
        "colab_type": "text"
      },
      "source": [
        "<h3> Q10: Calculating the log_loss of a given series</h3>"
      ]
    },
    {
      "cell_type": "code",
      "metadata": {
        "id": "N9zkagyNB-lJ",
        "colab_type": "code",
        "colab": {
          "base_uri": "https://localhost:8080/",
          "height": 34
        },
        "outputId": "d74d9072-07b1-47e0-e845-8606fc7e9c28"
      },
      "source": [
        "import math\n",
        "def compute_log_loss(A):\n",
        "    n, log_loss = len(A), 0\n",
        "    for y,ys in A:\n",
        "        log_loss -= (y*(math.log(ys, 10)) + (1-y)*math.log((1-ys),10))/n\n",
        "    return log_loss\n",
        "\n",
        "A = [[1, 0.4], [0, 0.5], [0, 0.9], [0, 0.3], [0, 0.6], [1, 0.1], [1, 0.9], [1, 0.8]]\n",
        "loss = compute_log_loss(A)\n",
        "print(loss)"
      ],
      "execution_count": 10,
      "outputs": [
        {
          "output_type": "stream",
          "text": [
            "0.42430993457031635\n"
          ],
          "name": "stdout"
        }
      ]
    }
  ]
}